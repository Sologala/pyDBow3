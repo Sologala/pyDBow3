{
 "cells": [
  {
   "cell_type": "code",
   "execution_count": null,
   "metadata": {},
   "outputs": [],
   "source": [
    "from pyDBow3 import Vocabulary\n",
    "import cv2\n",
    "import numpy as np"
   ]
  },
  {
   "cell_type": "code",
   "execution_count": null,
   "metadata": {},
   "outputs": [],
   "source": [
    "voc = Vocabulary(10, 4, \"TF_IDF\", \"L2_NORM\")"
   ]
  },
  {
   "cell_type": "code",
   "execution_count": null,
   "metadata": {},
   "outputs": [],
   "source": [
    "dataset_pattern = \"dataset/*.png\"\n",
    "import glob\n",
    "imglist = glob.glob(dataset_pattern)\n",
    "imglist = imglist[:len(imglist) // 2]"
   ]
  },
  {
   "cell_type": "code",
   "execution_count": null,
   "metadata": {},
   "outputs": [],
   "source": [
    "# create dataset \n",
    "des_list = []\n",
    "detector = cv2.SIFT_create(nfeatures=2000)\n",
    "for imgpath in imglist:\n",
    "    img = cv2.imread(imgpath, cv2.IMREAD_COLOR)\n",
    "    if img is None:\n",
    "        print(\"Couldn't read image: \", imgpath)\n",
    "        pass\n",
    "\n",
    "    gr = cv2.cvtColor(img, cv2.COLOR_BGR2GRAY)\n",
    "    kp, des = detector.detectAndCompute(gr, mask=None)\n",
    "    des_list.append(des)\n",
    "dess = np.vstack(des_list)\n",
    "voc.create(dess)"
   ]
  },
  {
   "cell_type": "code",
   "execution_count": null,
   "metadata": {},
   "outputs": [],
   "source": [
    "voc.saveToFile(\"voc.bin\", False)\n",
    "voc.saveToFile(\"voc.yml\", False)"
   ]
  },
  {
   "cell_type": "code",
   "execution_count": null,
   "metadata": {},
   "outputs": [],
   "source": [
    "# load and transform \n",
    "voc1 = Vocabulary()\n",
    "voc1.readFromFile(\"voc.bin\")\n",
    "print(voc1.getWordSize(), voc1.getDescritorSize(),voc1.getDepth())\n",
    "bv, fv = voc1.transform(des_list[-1], 0)"
   ]
  },
  {
   "cell_type": "code",
   "execution_count": null,
   "metadata": {},
   "outputs": [],
   "source": [
    "for word_id, weight in bv.items():\n",
    "    descriptor = voc1.getWord(word_id)\n",
    "    print(word_id, weight, descriptor)"
   ]
  },
  {
   "cell_type": "code",
   "execution_count": null,
   "metadata": {},
   "outputs": [],
   "source": []
  }
 ],
 "metadata": {
  "interpreter": {
   "hash": "d0f070b003b7d05af8159c87e706d3aad73e2f024112eedb8eb762e65083de4c"
  },
  "kernelspec": {
   "display_name": "Python 3.8.8 ('base')",
   "language": "python",
   "name": "python3"
  },
  "language_info": {
   "codemirror_mode": {
    "name": "ipython",
    "version": 3
   },
   "file_extension": ".py",
   "mimetype": "text/x-python",
   "name": "python",
   "nbconvert_exporter": "python",
   "pygments_lexer": "ipython3",
   "version": "3.8.8"
  },
  "orig_nbformat": 4
 },
 "nbformat": 4,
 "nbformat_minor": 2
}
